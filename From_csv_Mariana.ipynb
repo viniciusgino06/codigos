{
 "cells": [
  {
   "source": [
    "## Pandas Dataframe to GeoTIFF Manipulation"
   ],
   "cell_type": "markdown",
   "metadata": {}
  },
  {
   "cell_type": "code",
   "execution_count": 1,
   "metadata": {},
   "outputs": [],
   "source": [
    "import ee\n",
    "from osgeo import gdal\n",
    "from osgeo import osr\n",
    "import pandas as pd\n",
    "import numpy as np\n",
    "import time\n",
    "import requests\n",
    "\n",
    "ee.Initialize()"
   ]
  },
  {
   "source": [
    "### The input dataframe refers to Fundão dam (Mariana-MG-Brazil)"
   ],
   "cell_type": "markdown",
   "metadata": {}
  },
  {
   "cell_type": "code",
   "execution_count": 2,
   "metadata": {},
   "outputs": [],
   "source": [
    "tab1 = pd.read_csv(r'C:\\Users\\vinim\\IC_20_21\\Mariana_NDWI.csv')\n",
    "tabNDWI = tab1.set_index(['Latitude','Longitude'])\n",
    "t1time = tabNDWI.iloc[:,:-4] #datetime columns\n",
    "t1time.columns = pd.to_datetime(t1time.columns, format='%d-%m-%Y')\n",
    "t1time = t1time.reindex(sorted(t1time.columns), axis=1)\n",
    "dataframes = [t1time, tabNDWI.iloc[:,-4:]]\n",
    "resNDWI = pd.concat(dataframes, axis=1)"
   ]
  },
  {
   "cell_type": "code",
   "execution_count": 3,
   "metadata": {},
   "outputs": [],
   "source": [
    "tab = pd.read_csv(r'C:\\Users\\vinim\\IC_20_21\\Mariana_anomaly.csv') #CSV file from anomaly detections algorithms\n",
    "tabin = tab.set_index(['Latitude','Longitude'])\n",
    "dftime = tabin.iloc[:,:-6] #datetime columns\n",
    "dftime.columns = pd.to_datetime(dftime.columns, format='%d-%m-%Y')\n",
    "dftime = dftime.reindex(sorted(dftime.columns), axis=1)\n",
    "dataframes = [dftime, tabin.iloc[:,-6:]]\n",
    "resNDVI = pd.concat(dataframes, axis=1)\n",
    "resNDVI = resNDVI.set_index(resNDWI.index)"
   ]
  },
  {
   "source": [
    "### Anomaly detection methods used\n",
    "- Isolation Forest\n",
    "- One-Class SVM\n",
    "- DBSCAN\n",
    "- K-Means"
   ],
   "cell_type": "markdown",
   "metadata": {}
  },
  {
   "cell_type": "code",
   "execution_count": 4,
   "metadata": {},
   "outputs": [],
   "source": [
    "pd.options.mode.chained_assignment = None\n",
    "import sklearn\n",
    "from sklearn.svm import OneClassSVM\n",
    "from sklearn.ensemble import IsolationForest\n",
    "from sklearn.preprocessing import StandardScaler\n",
    "from sklearn.cluster import KMeans\n",
    "from sklearn.cluster import DBSCAN\n",
    "\n",
    "def count_kmeans(kmean):\n",
    "    return np.count_nonzero(kmean)\n",
    "\n",
    "def count_anomaly(predict):\n",
    "    return np.count_nonzero(predict==-1)\n",
    "\n",
    "def OCSVM(df):\n",
    "    scaler = StandardScaler()\n",
    "    y = df.to_numpy().reshape(-1, 1)\n",
    "    y_s = scaler.fit_transform(y)\n",
    "    res = OneClassSVM(nu=0.05).fit_predict(y_s)\n",
    "    return count_anomaly(res)\n",
    "\n",
    "def ISO(df):\n",
    "    scaler = StandardScaler()\n",
    "    y = df.to_numpy().reshape(-1, 1)\n",
    "    y_s = scaler.fit_transform(y)\n",
    "    res = IsolationForest(n_estimators=5,random_state=0).fit_predict(y_s)\n",
    "    return count_anomaly(res)\n",
    "\n",
    "def kmeans(df):\n",
    "    scaler = StandardScaler()\n",
    "    X = df.to_numpy().reshape(-1,1)\n",
    "    X_scaled = scaler.fit_transform(X)\n",
    "    km_clust = KMeans(n_clusters=2)\n",
    "    assigned_clusters = km_clust.fit_predict(X_scaled)\n",
    "    return count_kmeans(assigned_clusters)\n",
    "\n",
    "def DS(df):\n",
    "    scaler = StandardScaler()\n",
    "    y = df.to_numpy().reshape(-1, 1)\n",
    "    y_s = scaler.fit_transform(y)\n",
    "    outlier_detection = DBSCAN(eps = .2, metric='euclidean', min_samples = 5, n_jobs = -1)\n",
    "    clusters = outlier_detection.fit_predict(y_s)\n",
    "    return count_kmeans(clusters)"
   ]
  },
  {
   "source": [
    "### Dataframe to TIFF Function\n",
    "- Each meathod was saved as a Raster band\n",
    "- The columns names must to be passed as list input (in our case, the AD methods)"
   ],
   "cell_type": "markdown",
   "metadata": {}
  },
  {
   "cell_type": "code",
   "execution_count": 5,
   "metadata": {},
   "outputs": [],
   "source": [
    "def save_tiff_fromdf(df,bands,dummy,path_out):\n",
    "    \n",
    "    lat = []\n",
    "    lon = []\n",
    "    for i in range(len(df)):\n",
    "        lat.append(df.index[i][0])\n",
    "        lon.append(df.index[i][1])\n",
    "    \n",
    "    \n",
    "    ulat = np.unique(lat)\n",
    "    ulon = np.unique(lon)\n",
    "    ncols = len(ulon)\n",
    "    nrows = len(ulat)\n",
    "    nbands = len(bands)\n",
    "    ys = ulat[11]-ulat[10]\n",
    "    xs = ulon[11]-ulon[10]\n",
    "    \n",
    "    arr = np.zeros([nbands, nrows, ncols], np.float32)\n",
    "    refLat = np.max(ulat)\n",
    "    refLon = np.min(ulon)\n",
    "    for j in range(len(df)):\n",
    "        posLin = np.int64( np.round( (refLat - lat[j])/ys ) )\n",
    "        posCol = np.int64( np.round( (lon[j] - refLon)/xs ) )\n",
    "        for b in range(nbands):\n",
    "            arr[b,posLin,posCol] = df.loc[df.index[j],bands[b]]\n",
    "            \n",
    "    transform = (np.min(ulon),xs,0,np.max(ulat),0,-ys)\n",
    "    target = osr.SpatialReference()\n",
    "    target.ImportFromEPSG(4326)\n",
    "    \n",
    "    driver = gdal.GetDriverByName('GTiff')\n",
    "    outDs = driver.Create(path_out,ncols,nrows,nbands,gdal.GDT_Float32)\n",
    "    outDs.SetGeoTransform(transform)\n",
    "    outDs.SetProjection(target.ExportToWkt())\n",
    "\n",
    "    ind = 1\n",
    "    for b in range(nbands):\n",
    "        bandArr = np.copy(arr[b,:,:])\n",
    "        outBand = outDs.GetRasterBand(ind)\n",
    "        outBand.WriteArray(bandArr)\n",
    "        outBand.FlushCache()\n",
    "        outBand.SetNoDataValue(dummy)\n",
    "        ind += 1\n",
    "\n",
    "    outDs = None\n",
    "    del outDs, outBand\n",
    "\n",
    "    return 'ok...'"
   ]
  },
  {
   "source": [
    "At this point, we have to change the index of NDVI Dataset because a index rounding occurred during file compression"
   ],
   "cell_type": "markdown",
   "metadata": {}
  },
  {
   "cell_type": "code",
   "execution_count": 6,
   "metadata": {},
   "outputs": [],
   "source": [
    "bandlist = ['One-Class SVM','Isolation Forest','K-Means','DBSCAN']\n",
    "dummy = -99999"
   ]
  },
  {
   "source": [
    "### The outputs from cells below are available at repository"
   ],
   "cell_type": "markdown",
   "metadata": {}
  },
  {
   "cell_type": "code",
   "execution_count": null,
   "metadata": {},
   "outputs": [],
   "source": [
    "path_out = 'M_NDWIanomaly.tif'\n",
    "save_tiff_fromdf(resNDWI,bandlist,dummy,path_out)"
   ]
  },
  {
   "cell_type": "code",
   "execution_count": null,
   "metadata": {},
   "outputs": [],
   "source": [
    "path_out = 'M_NDVIanomaly.tif'\n",
    "save_tiff_fromdf(resNDVI,bandlist,dummy,path_out)"
   ]
  }
 ],
 "metadata": {
  "kernelspec": {
   "name": "python391jvsc74a57bd045b584d56b4a0717e34286573998d8a15a8d4fe5f71c4a830a81d55093225a7f",
   "display_name": "Python 3.9.1 64-bit ('gdal_env': conda)"
  },
  "language_info": {
   "codemirror_mode": {
    "name": "ipython",
    "version": 3
   },
   "file_extension": ".py",
   "mimetype": "text/x-python",
   "name": "python",
   "nbconvert_exporter": "python",
   "pygments_lexer": "ipython3",
   "version": "3.9.1"
  }
 },
 "nbformat": 4,
 "nbformat_minor": 4
}